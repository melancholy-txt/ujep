{
 "cells": [
  {
   "cell_type": "markdown",
   "metadata": {},
   "source": [
    "# Zápočtová práce: Matematický software\n"
   ]
  },
  {
   "cell_type": "markdown",
   "metadata": {},
   "source": [
    "## Úloha 1: Programová implementace SIR modelu\n",
    "Implementujte SIR model pro 5 nemocí s různými reprodukčními čísly. Vizualizujte průběh a odpovězte:\n",
    "1. Kdy nastává vrchol epidemie?\n",
    "2. Jak dlouho epidemie trvá?\n",
    "3. Kolik jedinců onemocní a kolik zůstane zdravých?"
   ]
  },
  {
   "cell_type": "code",
   "execution_count": null,
   "metadata": {},
   "outputs": [],
   "source": [
    "import numpy as np\n",
    "from scipy.integrate import solve_ivp\n",
    "import matplotlib.pyplot as plt\n"
   ]
  },
  {
   "cell_type": "code",
   "execution_count": null,
   "metadata": {},
   "outputs": [],
   "source": [
    "def run_sir(R0, gamma, S0=0.99, I0=0.01, R0_init=0, days=160):\n",
    "    beta = R0 * gamma\n",
    "    def sir(t, y):\n",
    "        S, I, R = y\n",
    "        dS = -beta * S * I\n",
    "        dI = beta * S * I - gamma * I\n",
    "        dR = gamma * I\n",
    "        return [dS, dI, dR]\n",
    "    sol = solve_ivp(sir, [0, days], [S0, I0, R0_init], dense_output=True)\n",
    "    t = np.linspace(0, days, days)\n",
    "    S, I, R = sol.sol(t)\n",
    "    return t, S, I, R\n"
   ]
  },
  {
   "cell_type": "code",
   "execution_count": null,
   "metadata": {},
   "outputs": [],
   "source": [
    "diseases = {\n",
    "    'Chřipka': 1.3,\n",
    "    'Spalničky': 12,\n",
    "    'Malárie': 2.5,\n",
    "    'COVID-19': 2.8,\n",
    "    'Ebola': 1.8\n",
    "}\n",
    "gamma = 1/14  # rekonvalescence za 14 dnů\n",
    "for name, R0 in diseases.items():\n",
    "    t, S, I, R = run_sir(R0, gamma)\n",
    "    peak_day = t[np.argmax(I)]\n",
    "    duration = t[next(i for i, x in enumerate(I[::-1]) if x<1e-3)]\n",
    "    total_infected = R[-1]\n",
    "    healthy = S[-1]\n",
    "    plt.figure(figsize=(6,4))\n",
    "    plt.plot(t, S, label='S')\n",
    "    plt.plot(t, I, label='I')\n",
    "    plt.plot(t, R, label='R')\n",
    "    plt.title(f'SIR: {name} (R0={R0})')\n",
    "    plt.xlabel('dny')\n",
    "    plt.ylabel('frakce populace')\n",
    "    plt.legend()\n",
    "    plt.show()\n",
    "    print(f\"{name}: vrchol = den {peak_day:.1f}, trvání ≈ {duration:.1f} dnů, onemocnělo {total_infected*100:.1f}%, zdravých {healthy*100:.1f}%\")\n"
   ]
  },
  {
   "cell_type": "markdown",
   "metadata": {},
   "source": [
    "## Úloha 2: Úprava ekologického modelu Lotka-Volterra\n",
    "1. Základní model kořist–predátor.\n",
    "2. Přidejte třetí druh do systému a zobrazte jeho vliv.\n"
   ]
  },
  {
   "cell_type": "code",
   "execution_count": null,
   "metadata": {},
   "outputs": [],
   "source": [
    "def run_lv(params, y0, days=200):\n",
    "    a, b, c, d = params  # kořist, interakce, predátor úhyn, reprodukce\n",
    "    def lv(t, y):\n",
    "        x, y1 = y\n",
    "        dx = a*x - b*x*y1\n",
    "        dy = -c*y1 + d*x*y1\n",
    "        return [dx, dy]\n",
    "    sol = solve_ivp(lv, [0, days], y0, dense_output=True)\n",
    "    t = np.linspace(0, days, days)\n",
    "    X, Y = sol.sol(t)\n",
    "    return t, X, Y\n",
    "t, X, Y = run_lv((1.0, 0.1, 1.5, 0.075), (40, 9))\n",
    "plt.figure(figsize=(6,4))\n",
    "plt.plot(t, X, label='Kořist')\n",
    "plt.plot(t, Y, label='Predátor')\n",
    "plt.legend(); plt.xlabel('dny'); plt.show()"
   ]
  },
  {
   "cell_type": "code",
   "execution_count": null,
   "metadata": {},
   "outputs": [],
   "source": [
    "# Rozšířený model se třetím druhem (vlci)\n",
    "def run_lv3(params, y0, days=200):\n",
    "    a, b, c, d, e, f = params\n",
    "    def lv3(t, y):\n",
    "        x, y1, z = y\n",
    "        dx = a*x - b*x*y1 - e*x*z\n",
    "        dy = -c*y1 + d*x*y1\n",
    "        dz = -f*z + e*x*z\n",
    "        return [dx, dy, dz]\n",
    "    sol = solve_ivp(lv3, [0, days], y0, dense_output=True)\n",
    "    t = np.linspace(0, days, days)\n",
    "    return t, sol.sol(t)\n",
    "t, (X, Y, Z) = run_lv3((1.0,0.1,1.5,0.075,0.02,0.5),(40,9,5))\n",
    "plt.figure(figsize=(6,4))\n",
    "plt.plot(t, X, label='Kořist')\n",
    "plt.plot(t, Y, label='Predátor')\n",
    "plt.plot(t, Z, label='Třetí druh')\n",
    "plt.legend(); plt.xlabel('dny'); plt.show()"
   ]
  },
  {
   "cell_type": "markdown",
   "metadata": {},
   "source": [
    "## Úloha 3: Alternativní model Zombie Apokalypsy\n",
    "Implementace ODE modelu pro lidi (S), zombíky (Z) a odstraněné (R).\n"
   ]
  },
  {
   "cell_type": "code",
   "execution_count": null,
   "metadata": {},
   "outputs": [],
   "source": [
    "def run_zombie(alpha, beta, delta, S0=0.99, Z0=0.01, R0_init=0, days=100):\n",
    "    def zombies(t, y):\n",
    "        S, Z, R = y\n",
    "        dS = -beta * S * Z\n",
    "        dZ = beta * S * Z + alpha * R - delta * S * Z\n",
    "        dR = delta * S * Z - alpha * R\n",
    "        return [dS, dZ, dR]\n",
    "    sol = solve_ivp(zombies, [0, days], [S0, Z0, R0_init], dense_output=True)\n",
    "    t = np.linspace(0, days, days)\n",
    "    return t, sol.sol(t)\n",
    "t, (S, Z, R) = run_zombie(alpha=0.01, beta=0.5, delta=0.1)\n",
    "plt.figure(figsize=(6,4))\n",
    "plt.plot(t, S, label='Lidé')\n",
    "plt.plot(t, Z, label='Zombíci')\n",
    "plt.plot(t, R, label='Odstranění')\n",
    "plt.legend(); plt.xlabel('dny'); plt.show()"
   ]
  }
 ],
 "metadata": {
  "kernelspec": {
   "display_name": "Python 3",
   "language": "python",
   "name": "python3"
  },
  "language_info": {
   "name": "python",
   "version": "3.8"
  }
 },
 "nbformat": 4,
 "nbformat_minor": 2
}