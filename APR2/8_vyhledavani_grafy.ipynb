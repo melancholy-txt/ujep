{
 "cells": [
  {
   "cell_type": "markdown",
   "metadata": {},
   "source": [
    "## Cv.8. Vyhledávání v grafu\n",
    "\n",
    "* Vyhledání optimální cesty grafu (Dijsktrův algoritmus, A* algoritmus)\n",
    "* Vyhledání kostry grafu (Borůvkův algoritmus, Kruskalův algoritmus)\n",
    "\n",
    "https://stackabuse.com/dijkstras-algorithm-in-python/"
   ]
  },
  {
   "cell_type": "markdown",
   "metadata": {},
   "source": [
    "### 8.1 Vyhledání optimální cesty v grafu\n"
   ]
  },
  {
   "cell_type": "markdown",
   "metadata": {},
   "source": [
    "#### Dijkstrův algoritmus"
   ]
  },
  {
   "cell_type": "code",
   "execution_count": 8,
   "metadata": {},
   "outputs": [
    {
     "name": "stdout",
     "output_type": "stream",
     "text": [
      "({'A': 0, 'B': 3, 'C': 1, 'D': 5, 'E': 3, 'F': 4, 'G': 8}, {'A': None, 'B': 'A', 'C': 'A', 'D': 'F', 'E': 'C', 'F': 'E', 'G': 'F'})\n"
     ]
    }
   ],
   "source": [
    "import heapq\n",
    "\n",
    "def dijkstra(graf,pocatecni_uzel):\n",
    "\n",
    "    vzdalenosti = {uzel:float('inf') for uzel in graf}\n",
    "    vzdalenosti[pocatecni_uzel] = 0\n",
    "    cesta = {uzel:None for uzel in graf}\n",
    "    fronta = [(0,pocatecni_uzel)]\n",
    "    \n",
    "    while fronta:\n",
    "        aktualni_vzdalenost, aktualni_uzel = heapq.heappop(fronta)\n",
    "        for dalsi_uzel, vaha in graf[aktualni_uzel].items():\n",
    "            docasna_vzdalenost = aktualni_vzdalenost+vaha\n",
    "            if docasna_vzdalenost < vzdalenosti[dalsi_uzel]:\n",
    "                vzdalenosti[dalsi_uzel] = docasna_vzdalenost\n",
    "                cesta[dalsi_uzel] = aktualni_uzel\n",
    "                heapq.heappush(fronta, (docasna_vzdalenost, dalsi_uzel))\n",
    "    return vzdalenosti, cesta\n",
    "\n",
    "\n",
    "def main():\n",
    "    graf={\n",
    "        'A':{'B':3,'C':1},\n",
    "        'B':{'D':3,'C':1},\n",
    "        'C':{'E':2},\n",
    "        'D':{'C':1,'E':2},\n",
    "        'E':{'F':1},\n",
    "        'F':{'G':4, 'D':1},\n",
    "        'G':{'E':1}\n",
    "    }\n",
    "    print(dijkstra(graf,'A'))\n",
    "\n",
    "if __name__ == '__main__':\n",
    "    main()"
   ]
  },
  {
   "cell_type": "markdown",
   "metadata": {},
   "source": [
    "#### A* algoritmus"
   ]
  },
  {
   "cell_type": "code",
   "execution_count": null,
   "metadata": {},
   "outputs": [],
   "source": [
    "!python3 -m pip install matplotlib"
   ]
  },
  {
   "cell_type": "code",
   "execution_count": null,
   "metadata": {},
   "outputs": [],
   "source": []
  },
  {
   "cell_type": "code",
   "execution_count": 21,
   "metadata": {},
   "outputs": [
    {
     "data": {
      "image/png": "[encoded data removed]",
      "text/plain": [
       "<Figure size 640x480 with 1 Axes>"
      ]
     },
     "metadata": {},
     "output_type": "display_data"
    }
   ],
   "source": [
    "import matplotlib.pyplot as plt\n",
    "import matplotlib.colors as colors\n",
    "import random\n",
    "\n",
    "class Vrchol():\n",
    "\n",
    "    def __init__(self, rodic=None, pozice=None):\n",
    "        self.rodic = rodic\n",
    "        self.pozice = pozice\n",
    "        self.g = 0 #cena za presun z predchoziho do aktualniho uzlu\n",
    "        self.h = 0 #heuristicka cena za presun do cile\n",
    "        self.f = 0 #vysledna cena, tzn f = g + h\n",
    "\n",
    "    def __eq__(self, other):\n",
    "        return self.pozice == other.pozice\n",
    "\n",
    "\n",
    "def astar(bludiste, zacatek, konec):\n",
    "    otevrene_vrcholy = [] #OPEN\n",
    "    uzavrene_vrcholy = [] #CLOSED\n",
    "    pocatecni_vrchol = Vrchol(None, zacatek)\n",
    "    konecny_vrchol = Vrchol(None, konec)\n",
    "\n",
    "    # algoritmus zacina pridanim pocatecniho vrcholu do seznamu OPEN\n",
    "    otevrene_vrcholy.append(pocatecni_vrchol)\n",
    "\n",
    "    # hlavni vyklus hledani optimalni cesty, opakuje se do vyprazdneni seznamu OPEN\n",
    "    while len(otevrene_vrcholy) > 0:\n",
    "\n",
    "        # v seznamu OPEN nalezneme vrchol s nejmensi F-hodnotou (vysledna cena)\n",
    "        aktualni_vrchol = otevrene_vrcholy[0]\n",
    "        for vrchol in otevrene_vrcholy:\n",
    "            if vrchol.f < aktualni_vrchol.f:\n",
    "                aktualni_vrchol = vrchol\n",
    "\n",
    "        # nalezeny vrchol vyjmeme ze seznamu OPEN a pridame ho do seznamu CLOSED\n",
    "        otevrene_vrcholy.pop(otevrene_vrcholy.index(aktualni_vrchol))\n",
    "        uzavrene_vrcholy.append(aktualni_vrchol)\n",
    "\n",
    "        # pokud je aktualni vrchol zaroven cilem bludiste, tak vratime cestu\n",
    "        if aktualni_vrchol == konecny_vrchol:\n",
    "            cesta = []\n",
    "            vrchol = aktualni_vrchol\n",
    "            while vrchol is not None: #vem postupne vsechny vrcholy zpetne pomoci odkazu na rodice a pridej je do cesty\n",
    "                cesta.append(vrchol.pozice)\n",
    "                vrchol = vrchol.rodic\n",
    "            return cesta[::-1] # vrat zpatky nalezenou optimalni cestu a obrat ji, at je od zacatku do cile\n",
    "\n",
    "        # ziskej potomky aktualniho vrcholu (vsechny uzly kolem nej)\n",
    "        potomci = []\n",
    "        #for posun in [(0, -1), (0, 1), (-1, 0), (1, 0), (-1, -1), (-1, 1), (1, -1), (1, 1)]:\n",
    "        for posun in [(0, -1), (0, 1), (-1, 0), (1, 0)]:\n",
    "\n",
    "            # souradnice potomka\n",
    "            potomek_pozice = (aktualni_vrchol.pozice[0] + posun[0], aktualni_vrchol.pozice[1] + posun[1])\n",
    "\n",
    "            # kontrola vyjeti z okraje bludiste\n",
    "            if potomek_pozice[0] > (len(bludiste) - 1) or potomek_pozice[0] < 0 or \\\n",
    "            potomek_pozice[1] > (len(bludiste[len(bludiste)-1]) -1) or potomek_pozice[1] < 0:\n",
    "                continue\n",
    "\n",
    "            # kontrola prekazky\n",
    "            if bludiste[potomek_pozice[0]][potomek_pozice[1]] == 1:\n",
    "                continue\n",
    "\n",
    "            # pridej potomka do seznamu potomku (Vrchol(rodice, pozice))\n",
    "            potomci.append(Vrchol(aktualni_vrchol, potomek_pozice))\n",
    "\n",
    "        # projdu vsechny potomky\n",
    "        for potomek in potomci:\n",
    "\n",
    "            # pokud je potomek v seznamu CLOSED, tak ho vynechame - uz jsme ho prochazeli\n",
    "            for uzavreny_vrchol in uzavrene_vrcholy:\n",
    "                if potomek == uzavreny_vrchol:\n",
    "                    continue\n",
    "\n",
    "            # spocitej potomka hodnoty g(rodic + 1), h(Pythagorska diagonalni vzdalenost od cile) a f\n",
    "            potomek.g = aktualni_vrchol.g + 1\n",
    "            potomek.h = ((potomek.pozice[0] - konecny_vrchol.pozice[0]) ** 2) + ((potomek.pozice[1] - konecny_vrchol.pozice[1]) ** 2)\n",
    "            potomek.f = potomek.g + potomek.h\n",
    "\n",
    "            # pokud je potomek jiz v seznamu OPEN a otevrel ho uzel s kratsi trasou, tak ho vynechame\n",
    "            for otevreny_vrchol in otevrene_vrcholy:\n",
    "                if potomek == otevreny_vrchol and potomek.g > otevreny_vrchol.g:\n",
    "                    continue\n",
    "\n",
    "            # pridej potomka do seznamu OPEN\n",
    "            otevrene_vrcholy.append(potomek)\n",
    "\n",
    "\n",
    "def vygeneruj_bludiste(nradku, nsloupcu, hustota_prekazek):\n",
    "    return [[1 if random.random() < hustota_prekazek else 0 for j in range(nsloupcu)] for i in range(nradku)]\n",
    "\n",
    "def bludiste_A():\n",
    "    return [[0,1,0,0,0,1,0],\n",
    "            [0,1,0,1,0,1,0],\n",
    "            [0,1,0,1,0,0,0],\n",
    "            [0,1,0,1,0,1,0],\n",
    "            [0,1,0,1,0,1,0],\n",
    "            [0,0,0,1,0,1,0]]\n",
    "\n",
    "def bludiste_B():\n",
    "    return [[0,0,0,0,0,0,0],\n",
    "            [1,1,1,1,1,1,0],\n",
    "            [0,0,0,0,0,1,0],\n",
    "            [0,0,0,0,0,1,0],\n",
    "            [0,0,0,0,0,1,0],\n",
    "            [0,0,0,0,0,1,0]]\n",
    "\n",
    "def bludiste_C():\n",
    "    return [[0,0,0,0,0,0,0],\n",
    "            [0,1,0,0,1,1,0],\n",
    "            [0,0,1,1,0,1,0],\n",
    "            [0,0,1,1,0,0,0],\n",
    "            [0,0,0,1,0,1,1],\n",
    "            [0,0,0,1,0,0,0]]\n",
    "\n",
    "\n",
    "def vykresli_bludiste(bludiste, zacatek, konec, optimalni_cesta=None):\n",
    "    #grey = volne policko, black = prekazka, green = zacatek, red = cil, yellow = optimalni cesta\n",
    "    cmap = colors.LinearSegmentedColormap.from_list(\"\", [\"grey\", \"black\", \"green\", \"red\", \"yellow\"])\n",
    "    if optimalni_cesta:\n",
    "        for pozice in optimalni_cesta:\n",
    "            bludiste[pozice[0]][pozice[1]] = 4\n",
    "    bludiste[zacatek[0]][zacatek[1]] = 2\n",
    "    bludiste[konec[0]][konec[1]] = 3\n",
    "    obrazek = plt.imshow(bludiste, cmap)\n",
    "\n",
    "\n",
    "def main():\n",
    "    bludiste = vygeneruj_bludiste(nradku=50, nsloupcu=50, hustota_prekazek=0.25)\n",
    "    #bludiste = bludiste_C()\n",
    "    zacatek = (0, 0)\n",
    "    konec = (len(bludiste)-1, len(bludiste[0])-1)\n",
    "    optimalni_cesta = astar(bludiste, zacatek, konec)\n",
    "    vykresli_bludiste(bludiste, zacatek, konec, optimalni_cesta)\n",
    "\n",
    "\n",
    "if __name__ == '__main__':\n",
    "    main()"
   ]
  },
  {
   "cell_type": "markdown",
   "metadata": {},
   "source": [
    "### 8.2 Vyhledání kostry grafu\n"
   ]
  },
  {
   "cell_type": "markdown",
   "metadata": {},
   "source": [
    "#### Borůvkův algoritmus"
   ]
  },
  {
   "cell_type": "code",
   "execution_count": null,
   "metadata": {},
   "outputs": [],
   "source": []
  },
  {
   "cell_type": "markdown",
   "metadata": {},
   "source": [
    "#### Kruskalův algoritmus"
   ]
  },
  {
   "cell_type": "code",
   "execution_count": null,
   "metadata": {},
   "outputs": [],
   "source": []
  }
 ],
 "metadata": {
  "kernelspec": {
   "display_name": "Python 3",
   "language": "python",
   "name": "python3"
  },
  "language_info": {
   "codemirror_mode": {
    "name": "ipython",
    "version": 3
   },
   "file_extension": ".py",
   "mimetype": "text/x-python",
   "name": "python",
   "nbconvert_exporter": "python",
   "pygments_lexer": "ipython3",
   "version": "3.12.5"
  },
  "orig_nbformat": 4
 },
 "nbformat": 4,
 "nbformat_minor": 2
}
